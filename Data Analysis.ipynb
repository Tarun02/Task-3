{
 "cells": [
  {
   "cell_type": "code",
   "execution_count": 1,
   "id": "6df165f3",
   "metadata": {},
   "outputs": [],
   "source": [
    "import pandas as pd\n",
    "import numpy as np\n",
    "from sklearn import preprocessing\n",
    "import matplotlib.pyplot as plt\n",
    "import seaborn as sns"
   ]
  },
  {
   "cell_type": "code",
   "execution_count": 3,
   "id": "1b004451",
   "metadata": {},
   "outputs": [],
   "source": [
    "initial_train_data = pd.read_json(\"~/SageMaker/data/dataset_en_train.json\", lines=True)\n",
    "initial_test_data = pd.read_json(\"~/SageMaker/data/dataset_en_test.json\", lines=True)"
   ]
  },
  {
   "cell_type": "code",
   "execution_count": 5,
   "id": "109fa3b1",
   "metadata": {},
   "outputs": [
    {
     "name": "stdout",
     "output_type": "stream",
     "text": [
      "<class 'pandas.core.frame.DataFrame'>\n",
      "RangeIndex: 200000 entries, 0 to 199999\n",
      "Data columns (total 8 columns):\n",
      " #   Column            Non-Null Count   Dtype \n",
      "---  ------            --------------   ----- \n",
      " 0   review_id         200000 non-null  object\n",
      " 1   product_id        200000 non-null  object\n",
      " 2   reviewer_id       200000 non-null  object\n",
      " 3   stars             200000 non-null  int64 \n",
      " 4   review_body       200000 non-null  object\n",
      " 5   review_title      200000 non-null  object\n",
      " 6   language          200000 non-null  object\n",
      " 7   product_category  200000 non-null  object\n",
      "dtypes: int64(1), object(7)\n",
      "memory usage: 12.2+ MB\n"
     ]
    }
   ],
   "source": [
    "initial_train_data.info()"
   ]
  },
  {
   "cell_type": "code",
   "execution_count": 20,
   "id": "0f36539b",
   "metadata": {},
   "outputs": [
    {
     "data": {
      "text/html": [
       "<div>\n",
       "<style scoped>\n",
       "    .dataframe tbody tr th:only-of-type {\n",
       "        vertical-align: middle;\n",
       "    }\n",
       "\n",
       "    .dataframe tbody tr th {\n",
       "        vertical-align: top;\n",
       "    }\n",
       "\n",
       "    .dataframe thead th {\n",
       "        text-align: right;\n",
       "    }\n",
       "</style>\n",
       "<table border=\"1\" class=\"dataframe\">\n",
       "  <thead>\n",
       "    <tr style=\"text-align: right;\">\n",
       "      <th></th>\n",
       "      <th>stars</th>\n",
       "    </tr>\n",
       "  </thead>\n",
       "  <tbody>\n",
       "    <tr>\n",
       "      <th>count</th>\n",
       "      <td>200000.000000</td>\n",
       "    </tr>\n",
       "    <tr>\n",
       "      <th>mean</th>\n",
       "      <td>3.000000</td>\n",
       "    </tr>\n",
       "    <tr>\n",
       "      <th>std</th>\n",
       "      <td>1.414217</td>\n",
       "    </tr>\n",
       "    <tr>\n",
       "      <th>min</th>\n",
       "      <td>1.000000</td>\n",
       "    </tr>\n",
       "    <tr>\n",
       "      <th>25%</th>\n",
       "      <td>2.000000</td>\n",
       "    </tr>\n",
       "    <tr>\n",
       "      <th>50%</th>\n",
       "      <td>3.000000</td>\n",
       "    </tr>\n",
       "    <tr>\n",
       "      <th>75%</th>\n",
       "      <td>4.000000</td>\n",
       "    </tr>\n",
       "    <tr>\n",
       "      <th>max</th>\n",
       "      <td>5.000000</td>\n",
       "    </tr>\n",
       "  </tbody>\n",
       "</table>\n",
       "</div>"
      ],
      "text/plain": [
       "               stars\n",
       "count  200000.000000\n",
       "mean        3.000000\n",
       "std         1.414217\n",
       "min         1.000000\n",
       "25%         2.000000\n",
       "50%         3.000000\n",
       "75%         4.000000\n",
       "max         5.000000"
      ]
     },
     "execution_count": 20,
     "metadata": {},
     "output_type": "execute_result"
    }
   ],
   "source": [
    "initial_train_data.describe()"
   ]
  },
  {
   "cell_type": "code",
   "execution_count": 21,
   "id": "88c31b70",
   "metadata": {},
   "outputs": [
    {
     "data": {
      "text/plain": [
       "review_id           0\n",
       "product_id          0\n",
       "reviewer_id         0\n",
       "stars               0\n",
       "review_body         0\n",
       "review_title        0\n",
       "language            0\n",
       "product_category    0\n",
       "dtype: int64"
      ]
     },
     "execution_count": 21,
     "metadata": {},
     "output_type": "execute_result"
    }
   ],
   "source": [
    "initial_train_data.isnull().sum()"
   ]
  },
  {
   "cell_type": "markdown",
   "id": "f4ff0b98",
   "metadata": {},
   "source": [
    "There are no null values in the training data."
   ]
  },
  {
   "cell_type": "markdown",
   "id": "15aa8367",
   "metadata": {},
   "source": [
    "Next we can find the number of unique values for the product, reviewers, product category and the language"
   ]
  },
  {
   "cell_type": "code",
   "execution_count": 24,
   "id": "f13323cb",
   "metadata": {},
   "outputs": [
    {
     "name": "stdout",
     "output_type": "stream",
     "text": [
      "Number of unique products are 185541\n",
      "Number of unique reviewers are 196745\n",
      "Number of unique categories of the product are are 31\n"
     ]
    }
   ],
   "source": [
    "print(\"Number of unique products are {0}\".format(initial_train_data['product_id'].nunique()))\n",
    "print(\"Number of unique reviewers are {0}\".format(initial_train_data['reviewer_id'].nunique()))\n",
    "print(\"Number of unique categories of the product are are {0}\".format(initial_train_data['product_category'].nunique()))"
   ]
  },
  {
   "cell_type": "markdown",
   "id": "65b1b98c",
   "metadata": {},
   "source": [
    "There are so many different unique reviewers and the unique products which leads to a large dimensional space. "
   ]
  },
  {
   "cell_type": "code",
   "execution_count": 41,
   "id": "a1ee2383",
   "metadata": {},
   "outputs": [
    {
     "data": {
      "image/png": "[encoded data removed]",
      "text/plain": [
       "<Figure size 720x360 with 1 Axes>"
      ]
     },
     "metadata": {},
     "output_type": "display_data"
    }
   ],
   "source": [
    "# Check the distribution of the rating\n",
    "with sns.axes_style('white'):\n",
    "    g = sns.catplot(x=\"stars\", data=initial_train_data, aspect=2.0,kind='count')\n",
    "    g.set_ylabels(\"Total number of ratings\")"
   ]
  },
  {
   "cell_type": "code",
   "execution_count": 13,
   "id": "0d2ccdb9",
   "metadata": {},
   "outputs": [
    {
     "data": {
      "text/plain": [
       "reviewer_id\n",
       "reviewer_en_0857640    5\n",
       "reviewer_en_0648912    4\n",
       "reviewer_en_0957630    4\n",
       "reviewer_en_0078203    4\n",
       "reviewer_en_0447899    4\n",
       "Name: stars, dtype: int64"
      ]
     },
     "execution_count": 13,
     "metadata": {},
     "output_type": "execute_result"
    }
   ],
   "source": [
    "no_of_rated_products_per_user = initial_train_data.groupby(by='reviewer_id')['stars'].count().sort_values(ascending=False)\n",
    "\n",
    "no_of_rated_products_per_user.head()"
   ]
  },
  {
   "cell_type": "code",
   "execution_count": 14,
   "id": "27d8613e",
   "metadata": {},
   "outputs": [
    {
     "data": {
      "text/plain": [
       "count    196745.000000\n",
       "mean          1.016544\n",
       "std           0.134122\n",
       "min           1.000000\n",
       "25%           1.000000\n",
       "50%           1.000000\n",
       "75%           1.000000\n",
       "max           5.000000\n",
       "Name: stars, dtype: float64"
      ]
     },
     "execution_count": 14,
     "metadata": {},
     "output_type": "execute_result"
    }
   ],
   "source": [
    "no_of_rated_products_per_user.describe()"
   ]
  },
  {
   "cell_type": "markdown",
   "id": "54a328be",
   "metadata": {},
   "source": [
    "Getting the number of products in each category"
   ]
  },
  {
   "cell_type": "code",
   "execution_count": 45,
   "id": "e82f5e6e",
   "metadata": {},
   "outputs": [
    {
     "data": {
      "image/png": "[encoded data removed]",
      "text/plain": [
       "<Figure size 432x288 with 1 Axes>"
      ]
     },
     "metadata": {
      "needs_background": "light"
     },
     "output_type": "display_data"
    }
   ],
   "source": [
    "products_data = initial_train_data['product_category'].value_counts().plot(kind='bar', title='Products distribution over categories')"
   ]
  },
  {
   "cell_type": "markdown",
   "id": "c184480a",
   "metadata": {},
   "source": [
    "From the above graph we can see that there more number of products under \"home\" category and less in \"personal_care_appliances\"."
   ]
  },
  {
   "cell_type": "markdown",
   "id": "e0ea418a",
   "metadata": {},
   "source": [
    "Now we can calculate the mean rating(stars) of each category but we have to be keep in mind that the categories which are having less ratings might skew the values to either side and might not gives us accurate representation."
   ]
  },
  {
   "cell_type": "code",
   "execution_count": 53,
   "id": "0bc126cb",
   "metadata": {},
   "outputs": [
    {
     "data": {
      "text/plain": [
       "product_category\n",
       "wireless                    2.726729\n",
       "video_games                 2.781935\n",
       "grocery                     2.801903\n",
       "digital_video_download      2.851906\n",
       "personal_care_appliances    2.853333\n",
       "lawn_and_garden             2.866521\n",
       "electronics                 2.891044\n",
       "beauty                      2.902407\n",
       "pc                          2.904234\n",
       "pet_products                2.931799\n",
       "watch                       2.939553\n",
       "furniture                   2.960791\n",
       "automotive                  2.966294\n",
       "drugstore                   2.970503\n",
       "toy                         2.971298\n",
       "jewelry                     2.995996\n",
       "industrial_supplies         3.000000\n",
       "camera                      3.002338\n",
       "apparel                     3.015736\n",
       "home_improvement            3.023122\n",
       "other                       3.024817\n",
       "home                        3.047684\n",
       "office_product              3.051983\n",
       "kitchen                     3.061260\n",
       "musical_instruments         3.083485\n",
       "shoes                       3.091976\n",
       "baby_product                3.112063\n",
       "sports                      3.118884\n",
       "luggage                     3.247741\n",
       "book                        3.348775\n",
       "digital_ebook_purchase      3.666765\n",
       "Name: stars, dtype: float64"
      ]
     },
     "execution_count": 53,
     "metadata": {},
     "output_type": "execute_result"
    }
   ],
   "source": [
    "initial_train_data.groupby('product_category')['stars'].mean().sort_values()"
   ]
  },
  {
   "cell_type": "code",
   "execution_count": null,
   "id": "5641d988",
   "metadata": {},
   "outputs": [],
   "source": []
  }
 ],
 "metadata": {
  "kernelspec": {
   "display_name": "conda_python3",
   "language": "python",
   "name": "conda_python3"
  },
  "language_info": {
   "codemirror_mode": {
    "name": "ipython",
    "version": 3
   },
   "file_extension": ".py",
   "mimetype": "text/x-python",
   "name": "python",
   "nbconvert_exporter": "python",
   "pygments_lexer": "ipython3",
   "version": "3.6.13"
  }
 },
 "nbformat": 4,
 "nbformat_minor": 5
}
